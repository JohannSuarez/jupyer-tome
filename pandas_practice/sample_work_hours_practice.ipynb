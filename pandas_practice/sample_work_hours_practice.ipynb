{
 "cells": [
  {
   "cell_type": "code",
   "execution_count": 2,
   "id": "thousand-lambda",
   "metadata": {},
   "outputs": [],
   "source": [
    "import pandas as pd"
   ]
  },
  {
   "cell_type": "code",
   "execution_count": 3,
   "id": "structural-punishment",
   "metadata": {},
   "outputs": [
    {
     "name": "stdout",
     "output_type": "stream",
     "text": [
      "13_5_2021.csv  16_5_2021.csv  19_5_2021.csv  22_5_2021.csv\r\n",
      "14_5_2021.csv  17_5_2021.csv  20_5_2021.csv  23_5_2021.csv\r\n",
      "15_5_2021.csv  18_5_2021.csv  21_5_2021.csv  24_5_2021.csv\r\n"
     ]
    }
   ],
   "source": [
    "!ls data/alex_hours_csv/"
   ]
  },
  {
   "cell_type": "code",
   "execution_count": 6,
   "id": "loved-smart",
   "metadata": {},
   "outputs": [
    {
     "data": {
      "text/html": [
       "<div>\n",
       "<style scoped>\n",
       "    .dataframe tbody tr th:only-of-type {\n",
       "        vertical-align: middle;\n",
       "    }\n",
       "\n",
       "    .dataframe tbody tr th {\n",
       "        vertical-align: top;\n",
       "    }\n",
       "\n",
       "    .dataframe thead th {\n",
       "        text-align: right;\n",
       "    }\n",
       "</style>\n",
       "<table border=\"1\" class=\"dataframe\">\n",
       "  <thead>\n",
       "    <tr style=\"text-align: right;\">\n",
       "      <th></th>\n",
       "      <th>Time</th>\n",
       "      <th>Username</th>\n",
       "      <th>UserID</th>\n",
       "      <th>Voice Channel</th>\n",
       "    </tr>\n",
       "  </thead>\n",
       "  <tbody>\n",
       "    <tr>\n",
       "      <th>0</th>\n",
       "      <td>7:57:0</td>\n",
       "      <td>Liam ¬ LTF</td>\n",
       "      <td>716047297636597782</td>\n",
       "      <td>Algo Trading</td>\n",
       "    </tr>\n",
       "    <tr>\n",
       "      <th>1</th>\n",
       "      <td>7:58:31</td>\n",
       "      <td>Liam ¬ LTF</td>\n",
       "      <td>716047297636597782</td>\n",
       "      <td>Algo Trading</td>\n",
       "    </tr>\n",
       "    <tr>\n",
       "      <th>2</th>\n",
       "      <td>8:0:1</td>\n",
       "      <td>Liam ¬ LTF</td>\n",
       "      <td>716047297636597782</td>\n",
       "      <td>Algo Trading</td>\n",
       "    </tr>\n",
       "    <tr>\n",
       "      <th>3</th>\n",
       "      <td>8:1:31</td>\n",
       "      <td>Liam ¬ LTF</td>\n",
       "      <td>716047297636597782</td>\n",
       "      <td>Algo Trading</td>\n",
       "    </tr>\n",
       "    <tr>\n",
       "      <th>4</th>\n",
       "      <td>8:3:1</td>\n",
       "      <td>Liam ¬ LTF</td>\n",
       "      <td>716047297636597782</td>\n",
       "      <td>Algo Trading</td>\n",
       "    </tr>\n",
       "    <tr>\n",
       "      <th>...</th>\n",
       "      <td>...</td>\n",
       "      <td>...</td>\n",
       "      <td>...</td>\n",
       "      <td>...</td>\n",
       "    </tr>\n",
       "    <tr>\n",
       "      <th>1388</th>\n",
       "      <td>22:9:8</td>\n",
       "      <td>BK</td>\n",
       "      <td>708865402943438929</td>\n",
       "      <td>Token Engineering</td>\n",
       "    </tr>\n",
       "    <tr>\n",
       "      <th>1389</th>\n",
       "      <td>22:9:8</td>\n",
       "      <td>Aidan | LTF</td>\n",
       "      <td>686755249138302977</td>\n",
       "      <td>Token Engineering</td>\n",
       "    </tr>\n",
       "    <tr>\n",
       "      <th>1390</th>\n",
       "      <td>22:10:38</td>\n",
       "      <td>BK</td>\n",
       "      <td>708865402943438929</td>\n",
       "      <td>Token Engineering</td>\n",
       "    </tr>\n",
       "    <tr>\n",
       "      <th>1391</th>\n",
       "      <td>22:12:8</td>\n",
       "      <td>BK</td>\n",
       "      <td>708865402943438929</td>\n",
       "      <td>Token Engineering</td>\n",
       "    </tr>\n",
       "    <tr>\n",
       "      <th>1392</th>\n",
       "      <td>22:13:38</td>\n",
       "      <td>BK</td>\n",
       "      <td>708865402943438929</td>\n",
       "      <td>Token Engineering</td>\n",
       "    </tr>\n",
       "  </tbody>\n",
       "</table>\n",
       "<p>1393 rows × 4 columns</p>\n",
       "</div>"
      ],
      "text/plain": [
       "          Time     Username              UserID      Voice Channel\n",
       "0       7:57:0   Liam ¬ LTF  716047297636597782       Algo Trading\n",
       "1      7:58:31   Liam ¬ LTF  716047297636597782       Algo Trading\n",
       "2        8:0:1   Liam ¬ LTF  716047297636597782       Algo Trading\n",
       "3       8:1:31   Liam ¬ LTF  716047297636597782       Algo Trading\n",
       "4        8:3:1   Liam ¬ LTF  716047297636597782       Algo Trading\n",
       "...        ...          ...                 ...                ...\n",
       "1388    22:9:8           BK  708865402943438929  Token Engineering\n",
       "1389    22:9:8  Aidan | LTF  686755249138302977  Token Engineering\n",
       "1390  22:10:38           BK  708865402943438929  Token Engineering\n",
       "1391   22:12:8           BK  708865402943438929  Token Engineering\n",
       "1392  22:13:38           BK  708865402943438929  Token Engineering\n",
       "\n",
       "[1393 rows x 4 columns]"
      ]
     },
     "execution_count": 6,
     "metadata": {},
     "output_type": "execute_result"
    }
   ],
   "source": [
    "df = pd.read_csv('data/alex_hours_csv/17_5_2021.csv')\n",
    "df"
   ]
  },
  {
   "cell_type": "code",
   "execution_count": null,
   "id": "hundred-enhancement",
   "metadata": {},
   "outputs": [],
   "source": []
  },
  {
   "cell_type": "code",
   "execution_count": null,
   "id": "comic-patient",
   "metadata": {},
   "outputs": [],
   "source": []
  }
 ],
 "metadata": {
  "kernelspec": {
   "display_name": "Python 3",
   "language": "python",
   "name": "python3"
  },
  "language_info": {
   "codemirror_mode": {
    "name": "ipython",
    "version": 3
   },
   "file_extension": ".py",
   "mimetype": "text/x-python",
   "name": "python",
   "nbconvert_exporter": "python",
   "pygments_lexer": "ipython3",
   "version": "3.8.5"
  }
 },
 "nbformat": 4,
 "nbformat_minor": 5
}
