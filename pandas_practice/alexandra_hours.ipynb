{
 "cells": [
  {
   "cell_type": "code",
   "execution_count": 1,
   "id": "thousand-lambda",
   "metadata": {},
   "outputs": [],
   "source": [
    "import pandas as pd"
   ]
  },
  {
   "cell_type": "code",
   "execution_count": 2,
   "id": "stunning-dubai",
   "metadata": {},
   "outputs": [],
   "source": [
    "vc = \"Token Engineering\"\n",
    "name = \"ygg_anderson\""
   ]
  },
  {
   "cell_type": "code",
   "execution_count": 3,
   "id": "structural-punishment",
   "metadata": {},
   "outputs": [
    {
     "name": "stdout",
     "output_type": "stream",
     "text": [
      "13_5_2021.csv  16_5_2021.csv  19_5_2021.csv  22_5_2021.csv\r\n",
      "14_5_2021.csv  17_5_2021.csv  20_5_2021.csv  23_5_2021.csv\r\n",
      "15_5_2021.csv  18_5_2021.csv  21_5_2021.csv  24_5_2021.csv\r\n"
     ]
    }
   ],
   "source": [
    "!ls data/alex_hours_csv/"
   ]
  },
  {
   "cell_type": "code",
   "execution_count": 4,
   "id": "loved-smart",
   "metadata": {},
   "outputs": [],
   "source": [
    "dfmay13 = pd.read_csv('data/alex_hours_csv/13_5_2021.csv')\n",
    "dfmay14 = pd.read_csv('data/alex_hours_csv/14_5_2021.csv')\n",
    "dfmay15 = pd.read_csv('data/alex_hours_csv/15_5_2021.csv')\n",
    "dfmay16 = pd.read_csv('data/alex_hours_csv/16_5_2021.csv')\n",
    "dfmay17 = pd.read_csv('data/alex_hours_csv/17_5_2021.csv')\n",
    "dfmay18 = pd.read_csv('data/alex_hours_csv/18_5_2021.csv')\n",
    "dfmay19 = pd.read_csv('data/alex_hours_csv/19_5_2021.csv')\n",
    "dfmay20 = pd.read_csv('data/alex_hours_csv/20_5_2021.csv')\n",
    "dfmay21 = pd.read_csv('data/alex_hours_csv/21_5_2021.csv')\n",
    "dfmay22 = pd.read_csv('data/alex_hours_csv/22_5_2021.csv')\n",
    "dfmay23 = pd.read_csv('data/alex_hours_csv/23_5_2021.csv')"
   ]
  },
  {
   "cell_type": "code",
   "execution_count": 5,
   "id": "detected-secretariat",
   "metadata": {},
   "outputs": [],
   "source": [
    "# Filtering out logs where the voice channel isn't Token Engineering\n",
    "dfmay13 = dfmay13[dfmay13['Voice Channel'] == vc]\n",
    "dfmay14 = dfmay14[dfmay14['Voice Channel'] == vc]\n",
    "dfmay15 = dfmay15[dfmay15['Voice Channel'] == vc]\n",
    "dfmay16 = dfmay16[dfmay16['Voice Channel'] == vc]\n",
    "dfmay17 = dfmay17[dfmay17['Voice Channel'] == vc]\n",
    "dfmay18 = dfmay18[dfmay18['Voice Channel'] == vc]\n",
    "dfmay19 = dfmay19[dfmay19['Voice Channel'] == vc]\n",
    "dfmay20 = dfmay20[dfmay20['Voice Channel'] == vc]\n",
    "dfmay21 = dfmay21[dfmay21['Voice Channel'] == vc]\n",
    "dfmay22 = dfmay22[dfmay22['Voice Channel'] == vc]\n",
    "dfmay23 = dfmay23[dfmay23['Voice Channel'] == vc]"
   ]
  },
  {
   "cell_type": "code",
   "execution_count": 6,
   "id": "extreme-intention",
   "metadata": {},
   "outputs": [],
   "source": [
    "# Filtering out logs where the user isn't the one specified\n",
    "dfmay13 = dfmay13[dfmay13['Username'] == name]\n",
    "dfmay14 = dfmay14[dfmay14['Username'] == name]\n",
    "dfmay15 = dfmay15[dfmay15['Username'] == name]\n",
    "dfmay16 = dfmay16[dfmay16['Username'] == name]\n",
    "dfmay17 = dfmay17[dfmay17['Username'] == name]\n",
    "dfmay18 = dfmay18[dfmay18['Username'] == name]\n",
    "dfmay19 = dfmay19[dfmay19['Username'] == name]\n",
    "dfmay20 = dfmay20[dfmay20['Username'] == name]\n",
    "dfmay21 = dfmay21[dfmay21['Username'] == name]\n",
    "dfmay22 = dfmay22[dfmay22['Username'] == name]\n",
    "dfmay23 = dfmay23[dfmay23['Username'] == name]"
   ]
  },
  {
   "cell_type": "code",
   "execution_count": 7,
   "id": "registered-zoning",
   "metadata": {},
   "outputs": [],
   "source": [
    "# Since the timesteps are 2.5 mins apart, we multiply the number of rows times 2.5\n",
    "# to get the total minutes spent that day\n",
    "# Divide by 60 to get hours\n",
    "day13 = (len(dfmay13.index) * 1.5) / 60 \n",
    "day14 = (len(dfmay14.index) * 1.5) / 60\n",
    "day15 = (len(dfmay15.index) * 1.5) / 60\n",
    "day16 = (len(dfmay16.index) * 1.5) / 60\n",
    "day17 = (len(dfmay17.index) * 1.5) / 60\n",
    "day18 = (len(dfmay18.index) * 1.5) / 60\n",
    "day19 = (len(dfmay19.index) * 1.5) / 60\n",
    "day20 = (len(dfmay20.index) * 1.5) / 60\n",
    "day21 = (len(dfmay21.index) * 1.5) / 60\n",
    "day22 = (len(dfmay22.index) * 1.5) / 60\n",
    "day23 = (len(dfmay23.index) * 1.5) / 60 \n",
    "sum_hours  = day13 + day14 + day15 + day16 + day17 + day18 + day19 + day20 + day21 + day22 + day23"
   ]
  },
  {
   "cell_type": "code",
   "execution_count": 8,
   "id": "suitable-apache",
   "metadata": {},
   "outputs": [
    {
     "name": "stdout",
     "output_type": "stream",
     "text": [
      "May 13: 0.0\n",
      "May 14: 0.0\n",
      "May 15: 0.0\n",
      "May 16: 0.0\n",
      "May 17: 5.625\n",
      "May 18: 5.575\n",
      "May 19: 2.2\n",
      "May 20: 7.3\n",
      "May 21: 2.85\n",
      "May 22: 4.9\n",
      "May 23: 4.75\n",
      "Total: 33.2\n"
     ]
    }
   ],
   "source": [
    "print(\"May 13: \" + str(day13)) \n",
    "print(\"May 14: \" + str(day14))\n",
    "print(\"May 15: \" + str(day15))\n",
    "print(\"May 16: \" + str(day16))\n",
    "print(\"May 17: \" + str(day17))\n",
    "print(\"May 18: \" + str(day18))\n",
    "print(\"May 19: \" + str(day19))\n",
    "print(\"May 20: \" + str(day20))\n",
    "print(\"May 21: \" + str(day21))\n",
    "print(\"May 22: \" + str(day22))\n",
    "print(\"May 23: \" + str(day23)) \n",
    "print(\"Total: \" + str(sum_hours))"
   ]
  },
  {
   "cell_type": "code",
   "execution_count": 9,
   "id": "attached-allocation",
   "metadata": {},
   "outputs": [
    {
     "data": {
      "text/plain": [
       "33.2"
      ]
     },
     "execution_count": 9,
     "metadata": {},
     "output_type": "execute_result"
    }
   ],
   "source": [
    "sum_hours"
   ]
  },
  {
   "cell_type": "code",
   "execution_count": 250,
   "id": "accredited-paraguay",
   "metadata": {},
   "outputs": [],
   "source": [
    "dfmay17.to_csv('may17.csv')"
   ]
  },
  {
   "cell_type": "code",
   "execution_count": 241,
   "id": "twenty-ownership",
   "metadata": {},
   "outputs": [
    {
     "name": "stdout",
     "output_type": "stream",
     "text": [
      "/home/johann/Documents/jupyter-tome/pandas_practice\r\n"
     ]
    }
   ],
   "source": [
    "!pwd"
   ]
  },
  {
   "cell_type": "code",
   "execution_count": null,
   "id": "integral-musical",
   "metadata": {},
   "outputs": [],
   "source": []
  }
 ],
 "metadata": {
  "kernelspec": {
   "display_name": "Python 3",
   "language": "python",
   "name": "python3"
  },
  "language_info": {
   "codemirror_mode": {
    "name": "ipython",
    "version": 3
   },
   "file_extension": ".py",
   "mimetype": "text/x-python",
   "name": "python",
   "nbconvert_exporter": "python",
   "pygments_lexer": "ipython3",
   "version": "3.8.5"
  }
 },
 "nbformat": 4,
 "nbformat_minor": 5
}
