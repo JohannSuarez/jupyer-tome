{
 "cells": [
  {
   "cell_type": "code",
   "execution_count": 1,
   "id": "877790fe",
   "metadata": {},
   "outputs": [],
   "source": [
    "import numpy as np"
   ]
  },
  {
   "cell_type": "code",
   "execution_count": 11,
   "id": "2aea55c9",
   "metadata": {},
   "outputs": [
    {
     "data": {
      "text/plain": [
       "array([ 0.        ,  0.48979592,  0.97959184,  1.46938776,  1.95918367,\n",
       "        2.44897959,  2.93877551,  3.42857143,  3.91836735,  4.40816327,\n",
       "        4.89795918,  5.3877551 ,  5.87755102,  6.36734694,  6.85714286,\n",
       "        7.34693878,  7.83673469,  8.32653061,  8.81632653,  9.30612245,\n",
       "        9.79591837, 10.28571429, 10.7755102 , 11.26530612, 11.75510204,\n",
       "       12.24489796, 12.73469388, 13.2244898 , 13.71428571, 14.20408163,\n",
       "       14.69387755, 15.18367347, 15.67346939, 16.16326531, 16.65306122,\n",
       "       17.14285714, 17.63265306, 18.12244898, 18.6122449 , 19.10204082,\n",
       "       19.59183673, 20.08163265, 20.57142857, 21.06122449, 21.55102041,\n",
       "       22.04081633, 22.53061224, 23.02040816, 23.51020408, 24.        ])"
      ]
     },
     "execution_count": 11,
     "metadata": {},
     "output_type": "execute_result"
    }
   ],
   "source": [
    "x = np.linspace(0, 24)\n",
    "x"
   ]
  },
  {
   "cell_type": "code",
   "execution_count": 29,
   "id": "23ae6dd9",
   "metadata": {},
   "outputs": [],
   "source": [
    "apple = list(range(1, 25))\n"
   ]
  },
  {
   "cell_type": "code",
   "execution_count": 30,
   "id": "d840a254",
   "metadata": {},
   "outputs": [],
   "source": [
    "def timesThree(x):\n",
    "    return [i*3 for i in x]\n"
   ]
  },
  {
   "cell_type": "code",
   "execution_count": 31,
   "id": "fbd59a92",
   "metadata": {},
   "outputs": [
    {
     "data": {
      "text/plain": [
       "[3,\n",
       " 6,\n",
       " 9,\n",
       " 12,\n",
       " 15,\n",
       " 18,\n",
       " 21,\n",
       " 24,\n",
       " 27,\n",
       " 30,\n",
       " 33,\n",
       " 36,\n",
       " 39,\n",
       " 42,\n",
       " 45,\n",
       " 48,\n",
       " 51,\n",
       " 54,\n",
       " 57,\n",
       " 60,\n",
       " 63,\n",
       " 66,\n",
       " 69,\n",
       " 72]"
      ]
     },
     "execution_count": 31,
     "metadata": {},
     "output_type": "execute_result"
    }
   ],
   "source": [
    "timesThree(apple)"
   ]
  },
  {
   "cell_type": "code",
   "execution_count": null,
   "id": "7ff0457c",
   "metadata": {},
   "outputs": [],
   "source": []
  }
 ],
 "metadata": {
  "kernelspec": {
   "display_name": "Python 3",
   "language": "python",
   "name": "python3"
  },
  "language_info": {
   "codemirror_mode": {
    "name": "ipython",
    "version": 3
   },
   "file_extension": ".py",
   "mimetype": "text/x-python",
   "name": "python",
   "nbconvert_exporter": "python",
   "pygments_lexer": "ipython3",
   "version": "3.8.10"
  }
 },
 "nbformat": 4,
 "nbformat_minor": 5
}
