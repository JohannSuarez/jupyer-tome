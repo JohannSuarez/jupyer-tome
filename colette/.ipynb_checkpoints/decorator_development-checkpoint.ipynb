{
 "cells": [
  {
   "cell_type": "markdown",
   "id": "acf98f7a",
   "metadata": {},
   "source": [
    "<h2>Goal: To develop a decorator that will wrap a Panel widget such that it can be hidden/unhidden with a toggle button. The label of the toggle button (and possibly color) will be specified by an argument provided to the decorator<h2>"
   ]
  },
  {
   "cell_type": "code",
   "execution_count": 1,
   "id": "d70159a0",
   "metadata": {},
   "outputs": [],
   "source": [
    "from functools import wraps"
   ]
  },
  {
   "cell_type": "markdown",
   "id": "2c7c384f",
   "metadata": {},
   "source": [
    "<h2>Example of a Practical Decorator<h2>"
   ]
  },
  {
   "cell_type": "code",
   "execution_count": 2,
   "id": "7d3d2a18",
   "metadata": {},
   "outputs": [],
   "source": [
    "def my_timer(orig_func):\n",
    "    import time\n",
    "    \n",
    "    @wraps(orig_func)\n",
    "    def wrapper(*args, **kwargs):\n",
    "        t1 = time.time()\n",
    "        result = orig_func(*args, **kwargs)\n",
    "        t2 = time.time() - t1\n",
    "        print('{} ran in: {} sec'.format(orig_func.__name__, t2))\n",
    "        return result\n",
    "    \n",
    "    return wrapper\n",
    "        "
   ]
  },
  {
   "cell_type": "code",
   "execution_count": 3,
   "id": "d7b36ddb",
   "metadata": {},
   "outputs": [],
   "source": [
    "@my_timer\n",
    "def display_info(name, age):\n",
    "    print('Function display_info ran with arguments ({}, {})'.format(name, age))"
   ]
  },
  {
   "cell_type": "code",
   "execution_count": 4,
   "id": "a300834f",
   "metadata": {},
   "outputs": [
    {
     "name": "stdout",
     "output_type": "stream",
     "text": [
      "Function display_info ran with arguments (Mac, 20)\n",
      "display_info ran in: 0.00016117095947265625 sec\n"
     ]
    }
   ],
   "source": [
    "display_info(\"Mac\", 20)"
   ]
  },
  {
   "cell_type": "code",
   "execution_count": 5,
   "id": "f58318a2",
   "metadata": {},
   "outputs": [
    {
     "name": "stdout",
     "output_type": "stream",
     "text": [
      "Package                           Version             \r\n",
      "--------------------------------- --------------------\r\n",
      "apturl                            0.5.2               \r\n",
      "argon2-cffi                       20.1.0              \r\n",
      "async-generator                   1.10                \r\n",
      "attrs                             21.2.0              \r\n",
      "backcall                          0.2.0               \r\n",
      "backports.entry-points-selectable 1.1.0               \r\n",
      "bcrypt                            3.1.7               \r\n",
      "bleach                            3.3.1               \r\n",
      "blinker                           1.4                 \r\n",
      "bokeh                             2.3.3               \r\n",
      "Brlapi                            0.7.0               \r\n",
      "certifi                           2019.11.28          \r\n",
      "cffi                              1.14.6              \r\n",
      "chardet                           3.0.4               \r\n",
      "Click                             7.0                 \r\n",
      "colorama                          0.4.3               \r\n",
      "command-not-found                 0.3                 \r\n",
      "cryptography                      2.8                 \r\n",
      "cupshelpers                       1.0                 \r\n",
      "dbus-python                       1.2.16              \r\n",
      "debugpy                           1.4.1               \r\n",
      "decorator                         5.0.9               \r\n",
      "defer                             1.0.6               \r\n",
      "defusedxml                        0.7.1               \r\n",
      "distlib                           0.3.2               \r\n",
      "distro                            1.4.0               \r\n",
      "distro-info                       0.23ubuntu1         \r\n",
      "duplicity                         0.8.12.0            \r\n",
      "entrypoints                       0.3                 \r\n",
      "fasteners                         0.14.1              \r\n",
      "filelock                          3.0.12              \r\n",
      "future                            0.18.2              \r\n",
      "greenlet                          0.4.15              \r\n",
      "httplib2                          0.14.0              \r\n",
      "idna                              2.8                 \r\n",
      "ipykernel                         6.0.3               \r\n",
      "ipython                           7.25.0              \r\n",
      "ipython-genutils                  0.2.0               \r\n",
      "ipywidgets                        7.6.3               \r\n",
      "jedi                              0.18.0              \r\n",
      "Jinja2                            3.0.1               \r\n",
      "jsonschema                        3.2.0               \r\n",
      "jupyter                           1.0.0               \r\n",
      "jupyter-client                    6.1.12              \r\n",
      "jupyter-console                   6.4.0               \r\n",
      "jupyter-core                      4.7.1               \r\n",
      "jupyterlab-pygments               0.1.2               \r\n",
      "jupyterlab-widgets                1.0.0               \r\n",
      "keyring                           18.0.1              \r\n",
      "language-selector                 0.1                 \r\n",
      "launchpadlib                      1.10.13             \r\n",
      "lazr.restfulclient                0.14.2              \r\n",
      "lazr.uri                          1.0.3               \r\n",
      "lockfile                          0.12.2              \r\n",
      "louis                             3.12.0              \r\n",
      "macaroonbakery                    1.3.1               \r\n",
      "Mako                              1.1.0               \r\n",
      "Markdown                          3.3.4               \r\n",
      "MarkupSafe                        2.0.1               \r\n",
      "matplotlib-inline                 0.1.2               \r\n",
      "mistune                           0.8.4               \r\n",
      "monotonic                         1.5                 \r\n",
      "msgpack                           0.6.2               \r\n",
      "nbclient                          0.5.3               \r\n",
      "nbconvert                         6.1.0               \r\n",
      "nbformat                          5.1.3               \r\n",
      "nest-asyncio                      1.5.1               \r\n",
      "netifaces                         0.10.4              \r\n",
      "notebook                          6.4.0               \r\n",
      "numpy                             1.21.1              \r\n",
      "oauthlib                          3.1.0               \r\n",
      "olefile                           0.46                \r\n",
      "packaging                         20.9                \r\n",
      "pandocfilters                     1.4.3               \r\n",
      "param                             1.11.1              \r\n",
      "paramiko                          2.6.0               \r\n",
      "parso                             0.8.2               \r\n",
      "pexpect                           4.6.0               \r\n",
      "pickleshare                       0.7.5               \r\n",
      "Pillow                            8.3.1               \r\n",
      "pip                               20.0.2              \r\n",
      "pkgconfig                         1.5.5               \r\n",
      "platformdirs                      2.0.2               \r\n",
      "prometheus-client                 0.11.0              \r\n",
      "prompt-toolkit                    3.0.19              \r\n",
      "protobuf                          3.6.1               \r\n",
      "psutil                            5.8.0               \r\n",
      "ptyprocess                        0.7.0               \r\n",
      "pycairo                           1.16.2              \r\n",
      "pycparser                         2.20                \r\n",
      "pyct                              0.4.8               \r\n",
      "pycups                            1.9.73              \r\n",
      "Pygments                          2.9.0               \r\n",
      "PyGObject                         3.36.0              \r\n",
      "PyJWT                             1.7.1               \r\n",
      "pymacaroons                       0.13.0              \r\n",
      "PyNaCl                            1.3.0               \r\n",
      "pynvim                            0.4.1               \r\n",
      "pyparsing                         2.4.7               \r\n",
      "pyRFC3339                         1.1                 \r\n",
      "pyrsistent                        0.18.0              \r\n",
      "python-apt                        2.0.0+ubuntu0.20.4.4\r\n",
      "python-dateutil                   2.7.3               \r\n",
      "python-debian                     0.1.36ubuntu1       \r\n",
      "pytz                              2019.3              \r\n",
      "pyviz-comms                       2.1.0               \r\n",
      "pyxattr                           0.6.1               \r\n",
      "pyxdg                             0.26                \r\n",
      "PyYAML                            5.3.1               \r\n",
      "pyzmq                             22.1.0              \r\n",
      "qtconsole                         5.1.1               \r\n",
      "QtPy                              1.9.0               \r\n",
      "ranger-fm                         1.9.3               \r\n",
      "reportlab                         3.5.34              \r\n",
      "requests                          2.22.0              \r\n",
      "requests-unixsocket               0.2.0               \r\n",
      "screen-resolution-extra           0.0.0               \r\n",
      "SecretStorage                     2.3.1               \r\n",
      "Send2Trash                        1.7.1               \r\n",
      "setuptools                        45.2.0              \r\n",
      "simplejson                        3.16.0              \r\n",
      "six                               1.14.0              \r\n",
      "systemd-python                    234                 \r\n",
      "terminado                         0.10.1              \r\n",
      "testpath                          0.5.0               \r\n",
      "tornado                           6.1                 \r\n",
      "tqdm                              4.61.2              \r\n",
      "traitlets                         5.0.5               \r\n",
      "typing-extensions                 3.10.0.0            \r\n",
      "ubuntu-advantage-tools            20.3                \r\n",
      "ubuntu-drivers-common             0.0.0               \r\n",
      "ufw                               0.36                \r\n",
      "unattended-upgrades               0.1                 \r\n",
      "urllib3                           1.25.8              \r\n",
      "usb-creator                       0.3.7               \r\n",
      "virtualenv                        20.6.0              \r\n",
      "virtualfish                       2.5.3               \r\n",
      "wadllib                           1.3.3               \r\n",
      "wcwidth                           0.2.5               \r\n",
      "webencodings                      0.5.1               \r\n",
      "wheel                             0.34.2              \r\n",
      "widgetsnbextension                3.5.1               \r\n",
      "xkit                              0.0.0               \r\n",
      "youtube-dl                        2020.3.24           \r\n"
     ]
    }
   ],
   "source": [
    "!pip list"
   ]
  },
  {
   "cell_type": "code",
   "execution_count": 1,
   "id": "f84819c4",
   "metadata": {},
   "outputs": [],
   "source": [
    "import sys"
   ]
  },
  {
   "cell_type": "code",
   "execution_count": 2,
   "id": "20ac38ea",
   "metadata": {},
   "outputs": [
    {
     "data": {
      "text/plain": [
       "['/home/johann/Workspace/colette',\n",
       " '/usr/lib/python38.zip',\n",
       " '/usr/lib/python3.8',\n",
       " '/usr/lib/python3.8/lib-dynload',\n",
       " '',\n",
       " '/home/johann/.virtualenvs/colette/lib/python3.8/site-packages',\n",
       " '/home/johann/.virtualenvs/colette/lib/python3.8/site-packages/IPython/extensions',\n",
       " '/home/johann/.ipython']"
      ]
     },
     "execution_count": 2,
     "metadata": {},
     "output_type": "execute_result"
    }
   ],
   "source": [
    "sys.path"
   ]
  },
  {
   "cell_type": "code",
   "execution_count": 3,
   "id": "1124003f",
   "metadata": {},
   "outputs": [
    {
     "data": {
      "text/plain": [
       "'/home/johann/.virtualenvs/colette/bin/python3'"
      ]
     },
     "execution_count": 3,
     "metadata": {},
     "output_type": "execute_result"
    }
   ],
   "source": [
    "sys.executable"
   ]
  },
  {
   "cell_type": "code",
   "execution_count": 4,
   "id": "6c0e8723",
   "metadata": {},
   "outputs": [
    {
     "name": "stdout",
     "output_type": "stream",
     "text": [
      "Package             Version\n",
      "------------------- ---------\n",
      "argon2-cffi         20.1.0\n",
      "async-generator     1.10\n",
      "attrs               21.2.0\n",
      "backcall            0.2.0\n",
      "bleach              3.3.1\n",
      "bokeh               2.3.3\n",
      "certifi             2021.5.30\n",
      "cffi                1.14.6\n",
      "charset-normalizer  2.0.3\n",
      "colorcet            2.0.6\n",
      "debugpy             1.4.1\n",
      "decorator           5.0.9\n",
      "defusedxml          0.7.1\n",
      "entrypoints         0.3\n",
      "holoviews           1.14.5\n",
      "idna                3.2\n",
      "ipykernel           6.0.3\n",
      "ipython             7.25.0\n",
      "ipython-genutils    0.2.0\n",
      "ipywidgets          7.6.3\n",
      "jedi                0.18.0\n",
      "Jinja2              3.0.1\n",
      "jsonschema          3.2.0\n",
      "jupyter             1.0.0\n",
      "jupyter-client      6.1.12\n",
      "jupyter-console     6.4.0\n",
      "jupyter-core        4.7.1\n",
      "jupyterlab-pygments 0.1.2\n",
      "jupyterlab-widgets  1.0.0\n",
      "Markdown            3.3.4\n",
      "MarkupSafe          2.0.1\n",
      "matplotlib-inline   0.1.2\n",
      "mistune             0.8.4\n",
      "nbclient            0.5.3\n",
      "nbconvert           6.1.0\n",
      "nbformat            5.1.3\n",
      "nest-asyncio        1.5.1\n",
      "notebook            6.4.0\n",
      "numpy               1.21.1\n",
      "packaging           21.0\n",
      "pandas              1.3.1\n",
      "pandocfilters       1.4.3\n",
      "panel               0.12.0\n",
      "param               1.11.1\n",
      "parso               0.8.2\n",
      "pexpect             4.8.0\n",
      "pickleshare         0.7.5\n",
      "Pillow              8.3.1\n",
      "pip                 21.1.3\n",
      "prometheus-client   0.11.0\n",
      "prompt-toolkit      3.0.19\n",
      "ptyprocess          0.7.0\n",
      "pycparser           2.20\n",
      "pyct                0.4.8\n",
      "Pygments            2.9.0\n",
      "pyparsing           2.4.7\n",
      "pyrsistent          0.18.0\n",
      "python-dateutil     2.8.2\n",
      "pytz                2021.1\n",
      "pyviz-comms         2.1.0\n",
      "PyYAML              5.4.1\n",
      "pyzmq               22.1.0\n",
      "qtconsole           5.1.1\n",
      "QtPy                1.9.0\n",
      "requests            2.26.0\n",
      "Send2Trash          1.7.1\n",
      "setuptools          57.1.0\n",
      "six                 1.16.0\n",
      "terminado           0.10.1\n",
      "testpath            0.5.0\n",
      "tornado             6.1\n",
      "tqdm                4.61.2\n",
      "traitlets           5.0.5\n",
      "typing-extensions   3.10.0.0\n",
      "urllib3             1.26.6\n",
      "wcwidth             0.2.5\n",
      "webencodings        0.5.1\n",
      "wheel               0.36.2\n",
      "widgetsnbextension  3.5.1\n",
      "\u001b[33mWARNING: You are using pip version 21.1.3; however, version 21.2.1 is available.\n",
      "You should consider upgrading via the '/home/johann/.virtualenvs/colette/bin/python -m pip install --upgrade pip' command.\u001b[0m\n"
     ]
    }
   ],
   "source": [
    "!pip list"
   ]
  },
  {
   "cell_type": "code",
   "execution_count": null,
   "id": "dbc21fed",
   "metadata": {},
   "outputs": [],
   "source": []
  }
 ],
 "metadata": {
  "kernelspec": {
   "display_name": "colette",
   "language": "python",
   "name": "colette"
  },
  "language_info": {
   "codemirror_mode": {
    "name": "ipython",
    "version": 3
   },
   "file_extension": ".py",
   "mimetype": "text/x-python",
   "name": "python",
   "nbconvert_exporter": "python",
   "pygments_lexer": "ipython3",
   "version": "3.8.10"
  }
 },
 "nbformat": 4,
 "nbformat_minor": 5
}
